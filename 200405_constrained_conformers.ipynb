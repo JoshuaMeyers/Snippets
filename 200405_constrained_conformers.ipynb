{
 "cells": [
  {
   "cell_type": "code",
   "execution_count": null,
   "metadata": {},
   "outputs": [],
   "source": [
    "from rdkit import Chem\n",
    "from rdkit.Chem import AllChem\n",
    "from rdkit.Chem.Draw import IPythonConsole\n",
    "from rdkit.Chem import rdFMCS\n",
    "from itertools import compress\n",
    "from copy import deepcopy\n",
    "from typing import List, Optional\n",
    "import py3Dmol"
   ]
  },
  {
   "cell_type": "markdown",
   "metadata": {},
   "source": [
    "The molecule that will define the fixed piece"
   ]
  },
  {
   "cell_type": "code",
   "execution_count": null,
   "metadata": {},
   "outputs": [],
   "source": [
    "ref_buff = \"\"\"ref_ligand\n",
    "                    3D\n",
    " Schrodinger Suite 2019-4.\n",
    " 23 23  0  0  1  0            999 V2000\n",
    "   13.8921   -2.4077   24.1269 C   0  0  0  0  0  0\n",
    "   13.4897   -0.2702   23.1446 C   0  0  0  0  0  0\n",
    "   12.8011    1.0351   23.3277 C   0  0  0  0  0  0\n",
    "   11.6117    1.1475   24.0810 C   0  0  0  0  0  0\n",
    "   10.9808    2.3973   24.2401 C   0  0  0  0  0  0\n",
    "   11.5348    3.5418   23.6347 C   0  0  0  0  0  0\n",
    "   12.7111    3.4432   22.8672 C   0  0  0  0  0  0\n",
    "   13.3408    2.1928   22.7264 C   0  0  0  0  0  0\n",
    "    9.4491    5.0959   22.7844 N   0  0  0  0  0  0\n",
    "   13.2656   -1.1348   24.1544 O   0  0  0  0  0  0\n",
    "   14.2110   -0.5201   22.1789 O   0  0  0  0  0  0\n",
    "   11.6894    6.1877   23.4320 O   0  0  0  0  0  0\n",
    "   10.1931    5.1760   25.2380 O   0  0  0  0  0  0\n",
    "   10.7644    5.1384   23.8833 S   0  0  0  0  0  0\n",
    "   13.5601   -3.0220   24.9622 H   0  0  0  0  0  0\n",
    "   13.6512   -2.9371   23.2047 H   0  0  0  0  0  0\n",
    "   14.9743   -2.3067   24.1963 H   0  0  0  0  0  0\n",
    "   11.1706    0.2738   24.5305 H   0  0  0  0  0  0\n",
    "   10.0785    2.4749   24.8291 H   0  0  0  0  0  0\n",
    "   13.1467    4.3202   22.4103 H   0  0  0  0  0  0\n",
    "   14.2657    2.1382   22.1772 H   0  0  0  0  0  0\n",
    "    8.9928    6.0050   22.7148 H   0  0  0  0  0  0\n",
    "    8.7689    4.3739   23.0292 H   0  0  0  0  0  0\n",
    "  1 10  1  0  0  0\n",
    "  1 15  1  0  0  0\n",
    "  1 16  1  0  0  0\n",
    "  1 17  1  0  0  0\n",
    "  2  3  1  0  0  0\n",
    "  2 10  1  0  0  0\n",
    "  2 11  2  0  0  0\n",
    "  3  4  1  0  0  0\n",
    "  3  8  2  0  0  0\n",
    "  4  5  2  0  0  0\n",
    "  4 18  1  0  0  0\n",
    "  5  6  1  0  0  0\n",
    "  5 19  1  0  0  0\n",
    "  6  7  2  0  0  0\n",
    "  6 14  1  0  0  0\n",
    "  7  8  1  0  0  0\n",
    "  7 20  1  0  0  0\n",
    "  8 21  1  0  0  0\n",
    "  9 14  1  0  0  0\n",
    "  9 22  1  0  0  0\n",
    "  9 23  1  0  0  0\n",
    " 12 14  2  0  0  0\n",
    " 13 14  2  0  0  0\n",
    "M  END\n",
    "$$$\n",
    "\"\"\""
   ]
  },
  {
   "cell_type": "code",
   "execution_count": null,
   "metadata": {},
   "outputs": [],
   "source": [
    "ref = Chem.MolFromMolBlock(ref_buff)\n",
    "ref"
   ]
  },
  {
   "cell_type": "markdown",
   "metadata": {},
   "source": [
    "We want to generate conformers for this molecule with ref fixed"
   ]
  },
  {
   "cell_type": "code",
   "execution_count": null,
   "metadata": {},
   "outputs": [],
   "source": [
    "smiles = \"NS(=O)(=O)c1ccc(C(=O)OCc2ccc(Br)s2)cc1\"\n",
    "mol = Chem.MolFromSmiles(smiles)\n",
    "mol = Chem.AddHs(mol)\n",
    "mol"
   ]
  },
  {
   "cell_type": "markdown",
   "metadata": {},
   "source": [
    "A simple function to generate conformers with a constrained piece and align the resulting conformers to the reference. "
   ]
  },
  {
   "cell_type": "code",
   "execution_count": null,
   "metadata": {},
   "outputs": [],
   "source": [
    "def duplicate_conformers(m: Chem.rdchem.Mol, new_conf_idx: int, rms_limit: float = 0.5) -> bool:\n",
    "    rmslist = []\n",
    "    for i in range(m.GetNumConformers()):\n",
    "        if i == new_conf_idx:\n",
    "            continue\n",
    "        rms = AllChem.GetConformerRMS(m, new_conf_idx, i, prealigned=True)\n",
    "        rmslist.append(rms)\n",
    "    return any(i < rms_limit for i in rmslist)\n",
    "\n",
    "\n",
    "def get_mcs(mol_one: Chem.rdchem.Mol, mol_two: Chem.rdchem.Mol) -> str:\n",
    "    \"\"\"Code to find the maximum common substructure between two molecules.\"\"\"\n",
    "    return Chem.MolToSmiles(\n",
    "        Chem.MolFromSmarts(\n",
    "            rdFMCS.FindMCS([mol_one,mol_two], completeRingsOnly=True, matchValences=True).smartsString\n",
    "        )\n",
    "    )\n",
    "\n",
    "\n",
    "def generate_conformers(mol: Chem.rdchem.Mol,\n",
    "                        ref_mol: Chem.rdchem.Mol,\n",
    "                        num_conf: int,\n",
    "                        ref_smi: str = None,\n",
    "                        minimum_conf_rms: Optional[float] = None,\n",
    "                       ) -> List[Chem.rdchem.Mol]:\n",
    "\n",
    "    # if SMILES to be fixed are not given, assume to the MCS\n",
    "    if not ref_smi:\n",
    "        ref_smi = get_mcs(mol, ref_mol)\n",
    "\n",
    "    # Creating core of reference ligand #\n",
    "    core_with_wildcards = AllChem.ReplaceSidechains(ref_mol, Chem.MolFromSmiles(ref_smi))\n",
    "    core1 = AllChem.DeleteSubstructs(core_with_wildcards, Chem.MolFromSmiles('*'))\n",
    "    core1.UpdatePropertyCache()\n",
    "\n",
    "    # Add Hs so that conf gen is improved\n",
    "    mol.RemoveAllConformers()\n",
    "    outmol = deepcopy(mol)\n",
    "    mol_wh = Chem.AddHs(mol)\n",
    "\n",
    "    # Generate conformers with constrained embed\n",
    "    conf_lst = []\n",
    "    dup_count = 0\n",
    "    for i in range(num_conf):\n",
    "        temp_mol = Chem.Mol(mol_wh)  # copy to avoid inplace changes\n",
    "        AllChem.ConstrainedEmbed(temp_mol, core1, randomseed=i)\n",
    "        Chem.RemoveHs(temp_mol)\n",
    "        conf_idx = outmol.AddConformer(temp_mol.GetConformer(0), assignId=True)\n",
    "        if minimum_conf_rms is not None:\n",
    "            if duplicate_conformers(outmol, conf_idx, rms_limit=minimum_conf_rms):\n",
    "                dup_count += 1\n",
    "                outmol.RemoveConformer(conf_idx)\n",
    "    if dup_count:\n",
    "        print(f'removed {dup_count} duplicated conformations')\n",
    "    return outmol\n",
    "\n",
    "mol = generate_conformers(mol, ref, 80, minimum_conf_rms=0.5)\n",
    "print(mol.GetNumConformers())"
   ]
  },
  {
   "cell_type": "code",
   "execution_count": null,
   "metadata": {},
   "outputs": [],
   "source": [
    "# visualise confs\n",
    "view = py3Dmol.view()\n",
    "for i in range(mol.GetNumConformers()):\n",
    "    mb = Chem.MolToMolBlock(mol, confId=i)\n",
    "    view.addModel(mb, 'sdf')\n",
    "view.setStyle({'stick': {}})\n",
    "view.setBackgroundColor('0xeeeeee')\n",
    "view.zoomTo()\n",
    "view"
   ]
  },
  {
   "cell_type": "markdown",
   "metadata": {},
   "source": [
    "# Filter conformations that clash with the protein"
   ]
  },
  {
   "cell_type": "code",
   "execution_count": null,
   "metadata": {},
   "outputs": [],
   "source": [
    "# This class is a hybrid between biopython and rdkit. (They both use arrays for atom coords)\n",
    "import Bio.PDB as PDB\n",
    "\n",
    "class ProteinLigandClashFilter:\n",
    "    def __init__(self, protein_pdbpath: str, distance: float = 1.5):\n",
    "        parser = PDB.PDBParser(QUIET=True, PERMISSIVE=True)\n",
    "        s = parser.get_structure('protein', protein_pdbpath)\n",
    "        self.kd = PDB.NeighborSearch(list(s.get_atoms()))\n",
    "        self.radius = distance\n",
    "\n",
    "    def __call__(self, conf: Chem.rdchem.Conformer) -> bool:\n",
    "        for coord in conf.GetPositions():\n",
    "            res = self.kd.search(coord, radius=self.radius)\n",
    "            if len(res):\n",
    "                return True\n",
    "        return False"
   ]
  },
  {
   "cell_type": "code",
   "execution_count": null,
   "metadata": {},
   "outputs": [],
   "source": [
    "# initialise using a protein pdb file with ligands and unwanted waters removed\n",
    "pdb_path = '/path/to/protein.pdb'\n",
    "clash_filter = ProteinLigandClashFilter(pdb_path, distance=0.5)"
   ]
  },
  {
   "cell_type": "code",
   "execution_count": null,
   "metadata": {},
   "outputs": [],
   "source": [
    "# generate a mask and filter clashing confs from list\n",
    "for conf in mol.GetConformers():\n",
    "    if clash_filter(conf):\n",
    "        print('removing')\n",
    "        mol.RemoveConformer(conf.GetId())"
   ]
  },
  {
   "cell_type": "code",
   "execution_count": null,
   "metadata": {},
   "outputs": [],
   "source": [
    "len(list(mol.GetConformers()))"
   ]
  },
  {
   "cell_type": "code",
   "execution_count": null,
   "metadata": {},
   "outputs": [],
   "source": [
    "# load PDB with waters and ligand deleted (kept single structural water)\n",
    "pdb = Chem.MolFromPDBFile(pdb_path)\n",
    "chA = {'chain':'A'}\n",
    "view = py3Dmol.view()\n",
    "view.addModel(Chem.MolToPDBBlock(pdb), 'pdb')\n",
    "view.setStyle({'cartoon': {'color':'spectrum'}})\n",
    "view.addSurface(py3Dmol.VDW,{'opacity':0.7,'color':'white'}, chA)\n",
    "\n",
    "n = -1\n",
    "for n, conf in enumerate(mol.GetConformers()):\n",
    "    mb = Chem.MolToMolBlock(mol, confId=conf.GetId())\n",
    "    view.addModel(mb, 'sdf')\n",
    "    view.setStyle({'model': n+1}, {'stick': {}})\n",
    "\n",
    "view.setBackgroundColor('0xeeeeee')\n",
    "view.zoomTo({'model': n+1})\n",
    "view.show()"
   ]
  },
  {
   "cell_type": "markdown",
   "metadata": {},
   "source": [
    "- On second thoughts. It would be best to remove duplicate conformers after filtering for clashes with the protein. Not this way round!"
   ]
  }
 ],
 "metadata": {
  "kernelspec": {
   "display_name": "Python 3",
   "language": "python",
   "name": "python3"
  },
  "language_info": {
   "codemirror_mode": {
    "name": "ipython",
    "version": 3
   },
   "file_extension": ".py",
   "mimetype": "text/x-python",
   "name": "python",
   "nbconvert_exporter": "python",
   "pygments_lexer": "ipython3",
   "version": "3.7.1"
  }
 },
 "nbformat": 4,
 "nbformat_minor": 4
}
