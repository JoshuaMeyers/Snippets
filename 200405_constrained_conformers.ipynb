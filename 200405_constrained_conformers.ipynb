{
 "cells": [
  {
   "cell_type": "code",
   "execution_count": null,
   "metadata": {},
   "outputs": [],
   "source": [
    "from rdkit import Chem\n",
    "from rdkit.Chem import AllChem\n",
    "# from rdkit.Chem.rdMolAlign import AlignMol\n",
    "# from rdkit.Chem.rdmolops import RemoveHs\n",
    "# from rdkit.Chem.Draw import IPythonConsole"
   ]
  },
  {
   "cell_type": "markdown",
   "metadata": {},
   "source": [
    "The molecule that will define the fixed piece"
   ]
  },
  {
   "cell_type": "code",
   "execution_count": null,
   "metadata": {},
   "outputs": [],
   "source": [
    "ref_buff = \"\"\"ref_ligand\n",
    "                    3D\n",
    " Schrodinger Suite 2019-4.\n",
    " 23 23  0  0  1  0            999 V2000\n",
    "   13.8921   -2.4077   24.1269 C   0  0  0  0  0  0\n",
    "   13.4897   -0.2702   23.1446 C   0  0  0  0  0  0\n",
    "   12.8011    1.0351   23.3277 C   0  0  0  0  0  0\n",
    "   11.6117    1.1475   24.0810 C   0  0  0  0  0  0\n",
    "   10.9808    2.3973   24.2401 C   0  0  0  0  0  0\n",
    "   11.5348    3.5418   23.6347 C   0  0  0  0  0  0\n",
    "   12.7111    3.4432   22.8672 C   0  0  0  0  0  0\n",
    "   13.3408    2.1928   22.7264 C   0  0  0  0  0  0\n",
    "    9.4491    5.0959   22.7844 N   0  0  0  0  0  0\n",
    "   13.2656   -1.1348   24.1544 O   0  0  0  0  0  0\n",
    "   14.2110   -0.5201   22.1789 O   0  0  0  0  0  0\n",
    "   11.6894    6.1877   23.4320 O   0  0  0  0  0  0\n",
    "   10.1931    5.1760   25.2380 O   0  0  0  0  0  0\n",
    "   10.7644    5.1384   23.8833 S   0  0  0  0  0  0\n",
    "   13.5601   -3.0220   24.9622 H   0  0  0  0  0  0\n",
    "   13.6512   -2.9371   23.2047 H   0  0  0  0  0  0\n",
    "   14.9743   -2.3067   24.1963 H   0  0  0  0  0  0\n",
    "   11.1706    0.2738   24.5305 H   0  0  0  0  0  0\n",
    "   10.0785    2.4749   24.8291 H   0  0  0  0  0  0\n",
    "   13.1467    4.3202   22.4103 H   0  0  0  0  0  0\n",
    "   14.2657    2.1382   22.1772 H   0  0  0  0  0  0\n",
    "    8.9928    6.0050   22.7148 H   0  0  0  0  0  0\n",
    "    8.7689    4.3739   23.0292 H   0  0  0  0  0  0\n",
    "  1 10  1  0  0  0\n",
    "  1 15  1  0  0  0\n",
    "  1 16  1  0  0  0\n",
    "  1 17  1  0  0  0\n",
    "  2  3  1  0  0  0\n",
    "  2 10  1  0  0  0\n",
    "  2 11  2  0  0  0\n",
    "  3  4  1  0  0  0\n",
    "  3  8  2  0  0  0\n",
    "  4  5  2  0  0  0\n",
    "  4 18  1  0  0  0\n",
    "  5  6  1  0  0  0\n",
    "  5 19  1  0  0  0\n",
    "  6  7  2  0  0  0\n",
    "  6 14  1  0  0  0\n",
    "  7  8  1  0  0  0\n",
    "  7 20  1  0  0  0\n",
    "  8 21  1  0  0  0\n",
    "  9 14  1  0  0  0\n",
    "  9 22  1  0  0  0\n",
    "  9 23  1  0  0  0\n",
    " 12 14  2  0  0  0\n",
    " 13 14  2  0  0  0\n",
    "M  END\n",
    "$$$\n",
    "\"\"\""
   ]
  },
  {
   "cell_type": "code",
   "execution_count": null,
   "metadata": {},
   "outputs": [],
   "source": [
    "ref = Chem.MolFromMolBlock(ref_buff)"
   ]
  },
  {
   "cell_type": "code",
   "execution_count": null,
   "metadata": {},
   "outputs": [],
   "source": [
    "ref"
   ]
  },
  {
   "cell_type": "markdown",
   "metadata": {},
   "source": [
    "We want to generate conformers for this molecule with ref fixed"
   ]
  },
  {
   "cell_type": "code",
   "execution_count": null,
   "metadata": {},
   "outputs": [],
   "source": [
    "smiles = \"NS(=O)(=O)c1ccc(C(=O)OCc2ccc(Br)s2)cc1\"\n",
    "mol = Chem.MolFromSmiles(smiles)\n",
    "mol = Chem.AddHs(mol)\n",
    "mol"
   ]
  },
  {
   "cell_type": "markdown",
   "metadata": {},
   "source": [
    "A simple function to generate conformers with a constrained piece and align the resulting conformers to the reference. "
   ]
  },
  {
   "cell_type": "code",
   "execution_count": null,
   "metadata": {},
   "outputs": [],
   "source": [
    "# def generate_aligned_conformers(mol, ref):\n",
    "#     # generate a pattern for matching, not sure if this is necessary\n",
    "#     ref_smi = Chem.MolToSmiles(ref)\n",
    "#     ref_pat = Chem.MolFromSmarts(ref_smi)\n",
    "#     # match mol and ref to the pattern to get atom maps\n",
    "#     ref_map = ref.GetSubstructMatch(ref_pat)\n",
    "#     mol_map = mol.GetSubstructMatch(ref_pat)\n",
    "#     # get the list of coordinates to fix in the conformer generation step\n",
    "#     ref_crd_list = [ref.GetConformer(0).GetAtomPosition(x) for x in ref_map]\n",
    "#     # create a correspondence between the atoms in mol and coordinates\n",
    "#     crd_map = dict(zip(mol_map,ref_crd_list))\n",
    "#     # generate conformers\n",
    "#     AllChem.EmbedMultipleConfs(mol, useExpTorsionAnglePrefs=True, useBasicKnowledge=True, coordMap=crd_map)\n",
    "#     # Align the conformers to ref\n",
    "#     atom_map = list(zip(mol_map,ref_map))\n",
    "#     rms_list = []\n",
    "#     for i in range(0,mol.GetNumConformers()):\n",
    "#         rms_list.append(AlignMol(prbMol=mol,refMol=ref,prbCid=i,refCid=0,atomMap=atom_map))\n",
    "#     return rms_list"
   ]
  },
  {
   "cell_type": "code",
   "execution_count": null,
   "metadata": {},
   "outputs": [],
   "source": [
    "# generate_aligned_conformers(mol,ref)"
   ]
  },
  {
   "cell_type": "markdown",
   "metadata": {},
   "source": [
    "Note that the resulting conformers have two different orientations for the sulfonamide. "
   ]
  },
  {
   "cell_type": "code",
   "execution_count": null,
   "metadata": {},
   "outputs": [],
   "source": [
    "# \n",
    "# view = py3Dmol.view() \n",
    "# for i in range(mol.GetNumConformers()):\n",
    "#     mb = Chem.MolToMolBlock(RemoveHs(mol),confId=i)\n",
    "#     view.addModel(mb,'sdf')\n",
    "# view.setStyle({'stick':{}})\n",
    "# view.setBackgroundColor('0xeeeeee')\n",
    "# view.zoomTo()\n",
    "# view"
   ]
  },
  {
   "cell_type": "markdown",
   "metadata": {},
   "source": [
    "Try this again with **ConstrainedEmbed**"
   ]
  },
  {
   "cell_type": "code",
   "execution_count": null,
   "metadata": {},
   "outputs": [],
   "source": [
    "# mol_2 = Chem.AddHs(Chem.MolFromSmiles(smiles))\n",
    "# newmol = AllChem.ConstrainedEmbed(mol_2,ref)"
   ]
  },
  {
   "cell_type": "markdown",
   "metadata": {},
   "source": [
    "Looks like this only generated a sing conformer"
   ]
  },
  {
   "cell_type": "code",
   "execution_count": null,
   "metadata": {},
   "outputs": [],
   "source": [
    "# newmol.GetNumConformers()"
   ]
  },
  {
   "cell_type": "code",
   "execution_count": null,
   "metadata": {},
   "outputs": [],
   "source": [
    "from rdkit import Chem\n",
    "from rdkit.Chem import AllChem\n",
    "from rdkit.Chem.MCS import FindMCS\n",
    "import py3Dmol\n",
    "\n",
    "def get_mcs(mol_one: Chem.Mol, mol_two: Chem.Mol) -> str:\n",
    "    \"\"\"Code to find the maximum common substructure between two molecules.\"\"\"\n",
    "    return Chem.MolToSmiles(\n",
    "        Chem.MolFromSmarts(\n",
    "            FindMCS([mol_one,mol_two], completeRingsOnly=True, matchValences=True).smarts\n",
    "        )\n",
    "    )\n",
    "\n",
    "def generate_conformers(mol: Chem.Mol, ref_mol: Chem.Mol, num_conf: int, ref_smi: str = None):\n",
    "\n",
    "    # if SMILES to be fixed are not given, assume to the MCS\n",
    "    if not ref_smi:\n",
    "        ref_smi = get_mcs(mol, ref_mol)\n",
    "\n",
    "    # Creating core of reference ligand #\n",
    "    core_with_wildcards = AllChem.ReplaceSidechains(ref_mol, Chem.MolFromSmiles(ref_smi))\n",
    "    core1 = AllChem.DeleteSubstructs(core_with_wildcards, Chem.MolFromSmiles('*'))\n",
    "    core1.UpdatePropertyCache()\n",
    "\n",
    "    # Add Hs so that conf gen is improved\n",
    "    mol_wh = Chem.AddHs(mol)\n",
    "\n",
    "    # Generate conformers with constrained embed\n",
    "    conf_lst = []\n",
    "    count = 0\n",
    "    for i in range(num_conf):\n",
    "        temp_mol = Chem.Mol(mol_wh)  # copy to avoid inplace changes\n",
    "        AllChem.ConstrainedEmbed(temp_mol, core1, randomseed=i)\n",
    "        new_conf = Chem.RemoveHs(temp_mol)\n",
    "        new_conf.SetIntProp(\"ConformerNum\", count + 1)\n",
    "        conf_lst.append(new_conf)\n",
    "        count += 1\n",
    "    return conf_lst\n",
    "\n",
    "confs = generate_conformers(mol, ref, 30)\n",
    "\n",
    "# visualise confs\n",
    "view = py3Dmol.view() \n",
    "for mol in confs:\n",
    "    mb = Chem.MolToMolBlock(mol)\n",
    "    view.addModel(mb,'sdf')\n",
    "view.setStyle({'stick':{}})\n",
    "view.setBackgroundColor('0xeeeeee')\n",
    "view.zoomTo()\n",
    "view"
   ]
  },
  {
   "cell_type": "code",
   "execution_count": null,
   "metadata": {},
   "outputs": [],
   "source": []
  }
 ],
 "metadata": {
  "kernelspec": {
   "display_name": "Python 3",
   "language": "python",
   "name": "python3"
  },
  "language_info": {
   "codemirror_mode": {
    "name": "ipython",
    "version": 3
   },
   "file_extension": ".py",
   "mimetype": "text/x-python",
   "name": "python",
   "nbconvert_exporter": "python",
   "pygments_lexer": "ipython3",
   "version": "3.7.1"
  }
 },
 "nbformat": 4,
 "nbformat_minor": 4
}
