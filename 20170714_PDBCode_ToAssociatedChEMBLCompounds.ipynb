{
 "cells": [
  {
   "cell_type": "code",
   "execution_count": 1,
   "metadata": {
    "collapsed": true
   },
   "outputs": [],
   "source": [
    "import urllib2\n",
    "from chembl_webresource_client.new_client import new_client"
   ]
  },
  {
   "cell_type": "code",
   "execution_count": 2,
   "metadata": {
    "collapsed": false
   },
   "outputs": [
    {
     "data": {
      "text/plain": [
       "['3.5.1.98']"
      ]
     },
     "execution_count": 2,
     "metadata": {},
     "output_type": "execute_result"
    }
   ],
   "source": [
    "def SIFT_PDB_to_EC(pdb_code):\n",
    "    try:\n",
    "        file = urllib2.urlopen('http://www.ebi.ac.uk/pdbe/api/mappings/ec/%s' %pdb_code)\n",
    "    except:\n",
    "        return False\n",
    "    data = file.read()\n",
    "    file.close()\n",
    "    return eval(data)\n",
    "pdbCode = '4lxz'\n",
    "SIFT_PDB_to_EC(pdbCode)[pdbCode]['EC'].keys()"
   ]
  },
  {
   "cell_type": "code",
   "execution_count": 3,
   "metadata": {
    "collapsed": false
   },
   "outputs": [
    {
     "data": {
      "text/plain": [
       "'Histone amidohydrolase'"
      ]
     },
     "execution_count": 3,
     "metadata": {},
     "output_type": "execute_result"
    }
   ],
   "source": [
    "def ec2name(pdb_code):\n",
    "    '''get more normal name from EC number'''\n",
    "    ec_dict = SIFT_PDB_to_EC(pdb_code)\n",
    "    if ec_dict:\n",
    "        ec_dict = ec_dict[pdb_code]['EC']\n",
    "        for x in ec_dict:\n",
    "            ec_name = ec_dict[x]['accepted_name']\n",
    "    else: ec_name = 'No Name'\n",
    "    return ec_name\n",
    "ec2name(pdbCode)"
   ]
  },
  {
   "cell_type": "code",
   "execution_count": 4,
   "metadata": {
    "collapsed": false
   },
   "outputs": [
    {
     "name": "stdout",
     "output_type": "stream",
     "text": [
      "5835\n"
     ]
    }
   ],
   "source": [
    "def getChEMBLCompounds(s, active=False):\n",
    "    '''use target search string s, to retrieve compound ids from chembl'''\n",
    "    target = new_client.target\n",
    "    activity = new_client.activity\n",
    "    mols = []\n",
    "    for tid in target.search(s):\n",
    "        tid = tid['target_chembl_id']\n",
    "        activities = activity.filter(target_chembl_id=tid, pchembl_value__gte=4)\n",
    "#         if active:\n",
    "#             activities = activities.filter(assay_type='B')\n",
    "        mols.extend([(x['molecule_chembl_id']) for x in activities])\n",
    "    mols = set(mols)\n",
    "    return mols\n",
    "mols = [(ec, getChEMBLCompounds(ec)) for ec in SIFT_PDB_to_EC(pdbCode)[pdbCode]['EC'].keys()]\n",
    "print len(mols[0][1])"
   ]
  },
  {
   "cell_type": "code",
   "execution_count": 6,
   "metadata": {
    "collapsed": false
   },
   "outputs": [
    {
     "data": {
      "text/plain": [
       "[u'CHEMBL445518',\n",
       " u'CHEMBL455342',\n",
       " u'CHEMBL217029',\n",
       " u'CHEMBL217025',\n",
       " u'CHEMBL387015',\n",
       " u'CHEMBL99456',\n",
       " u'CHEMBL570589',\n",
       " u'CHEMBL2047539',\n",
       " u'CHEMBL3639395',\n",
       " u'CHEMBL2047538']"
      ]
     },
     "execution_count": 6,
     "metadata": {},
     "output_type": "execute_result"
    }
   ],
   "source": [
    "list(mols[0][1])[:10]"
   ]
  },
  {
   "cell_type": "code",
   "execution_count": null,
   "metadata": {
    "collapsed": true
   },
   "outputs": [],
   "source": []
  }
 ],
 "metadata": {
  "anaconda-cloud": {},
  "kernelspec": {
   "display_name": "Python [conda root]",
   "language": "python",
   "name": "conda-root-py"
  },
  "language_info": {
   "codemirror_mode": {
    "name": "ipython",
    "version": 2
   },
   "file_extension": ".py",
   "mimetype": "text/x-python",
   "name": "python",
   "nbconvert_exporter": "python",
   "pygments_lexer": "ipython2",
   "version": "2.7.12"
  }
 },
 "nbformat": 4,
 "nbformat_minor": 1
}
